{
 "cells": [
  {
   "cell_type": "code",
   "execution_count": 1,
   "id": "b7bc1fbb-0e01-424a-b5af-c1383e77425b",
   "metadata": {},
   "outputs": [],
   "source": [
    "import pandas as pd\n",
    "import numpy as np\n",
    "from numpy import random\n",
    "import statistics as stats\n",
    "import matplotlib.pyplot as plt\n",
    "import seaborn as sns\n",
    "from scipy.stats import binom"
   ]
  },
  {
   "cell_type": "markdown",
   "id": "5dfeea5e-8e9f-4b7c-bc0f-24948799377d",
   "metadata": {},
   "source": [
    "a) What is the probability to find exactly 3 people who smoke? (p = 3)\n",
    "\n",
    "pmf = probability mass function"
   ]
  },
  {
   "cell_type": "code",
   "execution_count": 3,
   "id": "14fa84b6-b8e8-41ce-817a-cde8c7da814e",
   "metadata": {},
   "outputs": [
    {
     "data": {
      "text/plain": [
       "0.20132659199999992"
      ]
     },
     "execution_count": 3,
     "metadata": {},
     "output_type": "execute_result"
    }
   ],
   "source": [
    "binom.pmf(k = 3, n = 10, p = 0.20)"
   ]
  },
  {
   "cell_type": "markdown",
   "id": "0c5b9f6a-4d08-4b86-b615-65ba9404d5e1",
   "metadata": {},
   "source": [
    "b) What is the probability to find less than 3 people who smoke?\n",
    "\n",
    "cdf = cumulative distribution function"
   ]
  },
  {
   "cell_type": "code",
   "execution_count": 5,
   "id": "eb0f558c-789a-4435-b666-b00825a4e60e",
   "metadata": {},
   "outputs": [
    {
     "data": {
      "text/plain": [
       "0.6777995263999999"
      ]
     },
     "execution_count": 5,
     "metadata": {},
     "output_type": "execute_result"
    }
   ],
   "source": [
    "binom.cdf(k = 2, n = 10, p = 0.20)"
   ]
  },
  {
   "cell_type": "markdown",
   "id": "08cdaa0c-53d1-45de-be46-f138161000fe",
   "metadata": {},
   "source": [
    "c) What is the probability to find more than 3 people who smoke?\n",
    "\n",
    "p(x >= 4) or p(x > 3)\n",
    "\n",
    "sf = survival function"
   ]
  },
  {
   "cell_type": "code",
   "execution_count": 7,
   "id": "72b3c7eb-d693-428c-8afc-04bcc97a13c2",
   "metadata": {},
   "outputs": [
    {
     "data": {
      "text/plain": [
       "0.12087388160000007"
      ]
     },
     "execution_count": 7,
     "metadata": {},
     "output_type": "execute_result"
    }
   ],
   "source": [
    "binom.sf(k = 3, n = 10, p = 0.20)"
   ]
  },
  {
   "cell_type": "code",
   "execution_count": 9,
   "id": "676619e9-24aa-438a-b237-9841a2215b05",
   "metadata": {},
   "outputs": [
    {
     "ename": "TypeError",
     "evalue": "'method' object is not subscriptable",
     "output_type": "error",
     "traceback": [
      "\u001b[0;31m---------------------------------------------------------------------------\u001b[0m",
      "\u001b[0;31mTypeError\u001b[0m                                 Traceback (most recent call last)",
      "Cell \u001b[0;32mIn[9], line 3\u001b[0m\n\u001b[1;32m      1\u001b[0m n \u001b[38;5;241m=\u001b[39m \u001b[38;5;241m10\u001b[39m\n\u001b[1;32m      2\u001b[0m \u001b[38;5;28;01mfor\u001b[39;00m i \u001b[38;5;129;01min\u001b[39;00m \u001b[38;5;28mrange\u001b[39m (\u001b[38;5;241m0\u001b[39m, n \u001b[38;5;241m+\u001b[39m \u001b[38;5;241m1\u001b[39m):\n\u001b[0;32m----> 3\u001b[0m     \u001b[38;5;28mprint\u001b[39m(binom\u001b[38;5;241m.\u001b[39msf[i] \u001b[38;5;241m+\u001b[39m \u001b[38;5;241m1\u001b[39m \u001b[38;5;241m-\u001b[39m binom\u001b[38;5;241m.\u001b[39msf[i])\n",
      "\u001b[0;31mTypeError\u001b[0m: 'method' object is not subscriptable"
     ]
    }
   ],
   "source": [
    "n = 10\n",
    "for i in range (0, n + 1):\n",
    "    print(binom.sf[i] + 1 - binom.sf[i])"
   ]
  },
  {
   "cell_type": "code",
   "execution_count": null,
   "id": "1bf0c04d-e548-4d91-892b-57adb86b83f4",
   "metadata": {},
   "outputs": [],
   "source": []
  }
 ],
 "metadata": {
  "kernelspec": {
   "display_name": "Python [conda env:base] *",
   "language": "python",
   "name": "conda-base-py"
  },
  "language_info": {
   "codemirror_mode": {
    "name": "ipython",
    "version": 3
   },
   "file_extension": ".py",
   "mimetype": "text/x-python",
   "name": "python",
   "nbconvert_exporter": "python",
   "pygments_lexer": "ipython3",
   "version": "3.12.7"
  }
 },
 "nbformat": 4,
 "nbformat_minor": 5
}
