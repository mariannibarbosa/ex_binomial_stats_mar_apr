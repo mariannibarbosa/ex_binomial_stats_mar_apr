{
 "cells": [
  {
   "cell_type": "code",
   "execution_count": 2,
   "id": "eeffcf83-8167-417b-bc3b-f4058d0f08e2",
   "metadata": {},
   "outputs": [],
   "source": [
    "import pandas as pd\n",
    "import numpy as np\n",
    "from numpy import random\n",
    "import statistics as stats\n",
    "import matplotlib.pyplot as plt\n",
    "import seaborn as sns\n",
    "from scipy.stats import binom"
   ]
  },
  {
   "cell_type": "markdown",
   "id": "6c335cab-0904-402a-93cc-59a25a8c98a0",
   "metadata": {},
   "source": [
    "d) What is the probability to find between 3 and 5 people who smoke?\n",
    "\n",
    "(3 < x < 5)"
   ]
  },
  {
   "cell_type": "code",
   "execution_count": 22,
   "id": "573889c8-86a4-48f3-86f1-3af50af62874",
   "metadata": {},
   "outputs": [
    {
     "data": {
      "text/plain": [
       "0.20132659199999992"
      ]
     },
     "execution_count": 22,
     "metadata": {},
     "output_type": "execute_result"
    }
   ],
   "source": [
    "x3 = binom.pmf(k = 3, n = 10, p = 0.20)\n",
    "x3"
   ]
  },
  {
   "cell_type": "code",
   "execution_count": 24,
   "id": "ff5f5b22-2019-4919-b367-833e2d612e62",
   "metadata": {},
   "outputs": [
    {
     "data": {
      "text/plain": [
       "0.0880803839999999"
      ]
     },
     "execution_count": 24,
     "metadata": {},
     "output_type": "execute_result"
    }
   ],
   "source": [
    "x4 = binom.pmf(k = 4, n = 10, p = 0.20)\n",
    "x4"
   ]
  },
  {
   "cell_type": "code",
   "execution_count": 26,
   "id": "166f1d8d-8f65-4517-b277-302cd1e33a98",
   "metadata": {},
   "outputs": [
    {
     "data": {
      "text/plain": [
       "0.026424115199999983"
      ]
     },
     "execution_count": 26,
     "metadata": {},
     "output_type": "execute_result"
    }
   ],
   "source": [
    "x5 = binom.pmf(k = 5, n = 10, p = 0.20)\n",
    "x5"
   ]
  },
  {
   "cell_type": "code",
   "execution_count": 28,
   "id": "e5cc3bf3-a5f8-4c39-8b90-4d280898c6a4",
   "metadata": {},
   "outputs": [
    {
     "data": {
      "text/plain": [
       "0.3158310911999998"
      ]
     },
     "execution_count": 28,
     "metadata": {},
     "output_type": "execute_result"
    }
   ],
   "source": [
    "xtotal = x3 + x4 + x5\n",
    "xtotal"
   ]
  },
  {
   "cell_type": "code",
   "execution_count": 30,
   "id": "65834ec6-dee0-4f84-ba7c-ec9a21071886",
   "metadata": {},
   "outputs": [
    {
     "data": {
      "text/plain": [
       "0.3158310911999998"
      ]
     },
     "execution_count": 30,
     "metadata": {},
     "output_type": "execute_result"
    }
   ],
   "source": [
    "total_prob = sum([binom.pmf(k, 10, 0.2) for k in range (3,6)])\n",
    "total_prob"
   ]
  },
  {
   "cell_type": "markdown",
   "id": "a28831a4-324a-4cad-b5b5-600538570362",
   "metadata": {},
   "source": [
    "e) What is the probability that none of them smoke?"
   ]
  },
  {
   "cell_type": "code",
   "execution_count": 33,
   "id": "64ca52fe-5cae-4ffc-a957-b9e154afe3d7",
   "metadata": {},
   "outputs": [
    {
     "data": {
      "text/plain": [
       "0.10737418240000003"
      ]
     },
     "execution_count": 33,
     "metadata": {},
     "output_type": "execute_result"
    }
   ],
   "source": [
    "prob_zero = binom.pmf(k = 0, n = 10, p = 0.20)\n",
    "prob_zero"
   ]
  },
  {
   "cell_type": "markdown",
   "id": "1e9a963b-6a54-439e-b5db-188971a1911c",
   "metadata": {},
   "source": [
    "f) How many people do we expect to be smokers within these 10? Calculate Variance and Standard Deviation."
   ]
  },
  {
   "cell_type": "code",
   "execution_count": 45,
   "id": "ebee8888-9d70-461c-9230-0df8d78d81e5",
   "metadata": {},
   "outputs": [],
   "source": [
    "n = 10\n",
    "p = 0.2"
   ]
  },
  {
   "cell_type": "code",
   "execution_count": 47,
   "id": "155f37ea-b288-4b5a-80a2-0d73d1722632",
   "metadata": {},
   "outputs": [
    {
     "data": {
      "text/plain": [
       "2.0"
      ]
     },
     "execution_count": 47,
     "metadata": {},
     "output_type": "execute_result"
    }
   ],
   "source": [
    "expec = n * p\n",
    "expec"
   ]
  },
  {
   "cell_type": "code",
   "execution_count": 59,
   "id": "7dda3bfa-71e8-4443-9ff3-e26bab6b3043",
   "metadata": {},
   "outputs": [
    {
     "data": {
      "text/plain": [
       "1.6"
      ]
     },
     "execution_count": 59,
     "metadata": {},
     "output_type": "execute_result"
    }
   ],
   "source": [
    "variance = n * p * (1 - p)\n",
    "variance"
   ]
  },
  {
   "cell_type": "code",
   "execution_count": 70,
   "id": "244219a8-a9d0-4ac4-8837-a2a49dba36b3",
   "metadata": {},
   "outputs": [
    {
     "data": {
      "text/plain": [
       "1.2649110640673518"
      ]
     },
     "execution_count": 70,
     "metadata": {},
     "output_type": "execute_result"
    }
   ],
   "source": [
    "stn_dev = variance ** 0.5\n",
    "stn_dev"
   ]
  },
  {
   "cell_type": "markdown",
   "id": "eb9d7a54-9a8b-4f6e-8691-3da33601a122",
   "metadata": {},
   "source": [
    "*Exercise 1*\n",
    "\n",
    "A factory produces screws and 1% of them are defective. A company buys boxes with 100 screws in them and rejects the box if there is any defective screw."
   ]
  },
  {
   "cell_type": "markdown",
   "id": "366698c9-ad2a-47b1-9f7f-4c65dc7db08f",
   "metadata": {},
   "source": [
    "good: 99%\n",
    "defective: 1%\n",
    "\n",
    "independent events, so p(good) = 0.99 * 0.99 * 0.99... ^ 100\n",
    "\n",
    "p(defective) = 1 - p(good)"
   ]
  },
  {
   "cell_type": "code",
   "execution_count": 76,
   "id": "aaef9103-6677-46de-bd91-aed06b654480",
   "metadata": {},
   "outputs": [],
   "source": [
    "number_screw = 100\n",
    "defec_screw_prob = 0.01\n",
    "prob_good = (1 - defec_screw_prob) ** number_screw"
   ]
  },
  {
   "cell_type": "code",
   "execution_count": 78,
   "id": "118683fe-210c-4f5d-a367-c23da7755384",
   "metadata": {},
   "outputs": [
    {
     "data": {
      "text/plain": [
       "0.6339676587267709"
      ]
     },
     "execution_count": 78,
     "metadata": {},
     "output_type": "execute_result"
    }
   ],
   "source": [
    "prob_reject = 1 - prob_good\n",
    "prob_reject"
   ]
  },
  {
   "cell_type": "markdown",
   "id": "78e4826b-f9fb-4370-af86-36542a3b6719",
   "metadata": {},
   "source": [
    "What's the probability of having exactly 0 defective screws and not rejecting a box?"
   ]
  },
  {
   "cell_type": "code",
   "execution_count": 83,
   "id": "b7d57d41-d972-4638-b1ab-c6dffa8d2dca",
   "metadata": {},
   "outputs": [
    {
     "data": {
      "text/plain": [
       "0.36603234127322953"
      ]
     },
     "execution_count": 83,
     "metadata": {},
     "output_type": "execute_result"
    }
   ],
   "source": [
    "x_non_reject = binom.pmf(k = 0, n = 100, p = 0.01)\n",
    "x_non_reject"
   ]
  },
  {
   "cell_type": "code",
   "execution_count": 85,
   "id": "e10565e7-8fff-4e23-889e-da8cfeb69ec8",
   "metadata": {},
   "outputs": [
    {
     "data": {
      "text/plain": [
       "0.6339676587267704"
      ]
     },
     "execution_count": 85,
     "metadata": {},
     "output_type": "execute_result"
    }
   ],
   "source": [
    "x_reject = 1 - x_non_reject\n",
    "x_reject"
   ]
  },
  {
   "cell_type": "markdown",
   "id": "8866b523-fd1c-4cd5-adb6-40194a48b3e7",
   "metadata": {},
   "source": [
    "b) If the company buys 16 boxes, calculate the probability of rejecting 5 of them."
   ]
  },
  {
   "cell_type": "code",
   "execution_count": 111,
   "id": "b87242ef-142a-4a24-8185-558018654cfa",
   "metadata": {},
   "outputs": [
    {
     "data": {
      "text/plain": [
       "0.007079187353447947"
      ]
     },
     "execution_count": 111,
     "metadata": {},
     "output_type": "execute_result"
    }
   ],
   "source": [
    "x_16_box = binom.pmf(k = 5, n = 16, p = 0.6339) #16 boxes, 0.63 prob. of rejection\n",
    "x_16_box"
   ]
  },
  {
   "cell_type": "markdown",
   "id": "9257d190-7e88-4f37-86df-32660182819f",
   "metadata": {},
   "source": [
    "c) If the company buys 20 boxes, how many of them do we expect to reject?"
   ]
  },
  {
   "cell_type": "code",
   "execution_count": 116,
   "id": "0ca0be7c-9662-4c06-ac6f-6a59fa9d5304",
   "metadata": {},
   "outputs": [
    {
     "data": {
      "text/plain": [
       "12.678"
      ]
     },
     "execution_count": 116,
     "metadata": {},
     "output_type": "execute_result"
    }
   ],
   "source": [
    "n = 20\n",
    "p = 0.6339\n",
    "expec1 = n * p\n",
    "expec1"
   ]
  },
  {
   "cell_type": "markdown",
   "id": "00f03472-e676-400b-8a63-aab9d790518b",
   "metadata": {},
   "source": [
    "*Exercise 2.*\n",
    "\n",
    "The potato harvest of a country was evenly distributed in 6 regions, and the estimation is that 90% of the potato bags are in good condition. If we receive 20 bags from certain region, what is the probability to receive at least 15 of them in good condition?"
   ]
  },
  {
   "cell_type": "code",
   "execution_count": 122,
   "id": "10c9d7c9-f721-4f87-964d-76782b077644",
   "metadata": {},
   "outputs": [],
   "source": [
    "# regions: 6\n",
    "# prob. good: 90%\n",
    "# prob. bad: 10%\n",
    "#"
   ]
  },
  {
   "cell_type": "code",
   "execution_count": 136,
   "id": "39df834f-281f-4c4d-a049-5dd9fe1db8d6",
   "metadata": {},
   "outputs": [
    {
     "data": {
      "text/plain": [
       "0.988746865835491"
      ]
     },
     "execution_count": 136,
     "metadata": {},
     "output_type": "execute_result"
    }
   ],
   "source": [
    "prob_1reg = binom.sf(k = 14, n = 20, p = 0.9) #using 14 because sf calculates >=\n",
    "prob_1reg"
   ]
  },
  {
   "cell_type": "code",
   "execution_count": 140,
   "id": "d21e7573-b17e-41e6-8580-defc1dc9deaf",
   "metadata": {},
   "outputs": [
    {
     "data": {
      "text/plain": [
       "0.988746865835491"
      ]
     },
     "execution_count": 140,
     "metadata": {},
     "output_type": "execute_result"
    }
   ],
   "source": [
    "prob_1reg_1 = 1 - binom.cdf(k = 14, n = 20, p = 0.9) \n",
    "prob_1reg_1"
   ]
  },
  {
   "cell_type": "code",
   "execution_count": null,
   "id": "ee3392fb-1eea-4c91-a8ef-ecc4522af2f9",
   "metadata": {},
   "outputs": [],
   "source": []
  }
 ],
 "metadata": {
  "kernelspec": {
   "display_name": "Python [conda env:base] *",
   "language": "python",
   "name": "conda-base-py"
  },
  "language_info": {
   "codemirror_mode": {
    "name": "ipython",
    "version": 3
   },
   "file_extension": ".py",
   "mimetype": "text/x-python",
   "name": "python",
   "nbconvert_exporter": "python",
   "pygments_lexer": "ipython3",
   "version": "3.12.7"
  }
 },
 "nbformat": 4,
 "nbformat_minor": 5
}
