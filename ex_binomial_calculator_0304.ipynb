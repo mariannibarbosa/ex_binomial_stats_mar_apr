{
 "cells": [
  {
   "cell_type": "code",
   "execution_count": 2,
   "id": "eeffcf83-8167-417b-bc3b-f4058d0f08e2",
   "metadata": {},
   "outputs": [],
   "source": [
    "import pandas as pd\n",
    "import numpy as np\n",
    "from numpy import random\n",
    "import statistics as stats\n",
    "import matplotlib.pyplot as plt\n",
    "import seaborn as sns\n",
    "from scipy.stats import binom"
   ]
  },
  {
   "cell_type": "markdown",
   "id": "6c335cab-0904-402a-93cc-59a25a8c98a0",
   "metadata": {},
   "source": [
    "d) What is the probability to find between 3 and 5 people who smoke?\n",
    "\n",
    "(3 < x < 5)"
   ]
  },
  {
   "cell_type": "code",
   "execution_count": 22,
   "id": "573889c8-86a4-48f3-86f1-3af50af62874",
   "metadata": {},
   "outputs": [
    {
     "data": {
      "text/plain": [
       "0.20132659199999992"
      ]
     },
     "execution_count": 22,
     "metadata": {},
     "output_type": "execute_result"
    }
   ],
   "source": [
    "x3 = binom.pmf(k = 3, n = 10, p = 0.20)\n",
    "x3"
   ]
  },
  {
   "cell_type": "code",
   "execution_count": 24,
   "id": "ff5f5b22-2019-4919-b367-833e2d612e62",
   "metadata": {},
   "outputs": [
    {
     "data": {
      "text/plain": [
       "0.0880803839999999"
      ]
     },
     "execution_count": 24,
     "metadata": {},
     "output_type": "execute_result"
    }
   ],
   "source": [
    "x4 = binom.pmf(k = 4, n = 10, p = 0.20)\n",
    "x4"
   ]
  },
  {
   "cell_type": "code",
   "execution_count": 26,
   "id": "166f1d8d-8f65-4517-b277-302cd1e33a98",
   "metadata": {},
   "outputs": [
    {
     "data": {
      "text/plain": [
       "0.026424115199999983"
      ]
     },
     "execution_count": 26,
     "metadata": {},
     "output_type": "execute_result"
    }
   ],
   "source": [
    "x5 = binom.pmf(k = 5, n = 10, p = 0.20)\n",
    "x5"
   ]
  },
  {
   "cell_type": "code",
   "execution_count": 28,
   "id": "e5cc3bf3-a5f8-4c39-8b90-4d280898c6a4",
   "metadata": {},
   "outputs": [
    {
     "data": {
      "text/plain": [
       "0.3158310911999998"
      ]
     },
     "execution_count": 28,
     "metadata": {},
     "output_type": "execute_result"
    }
   ],
   "source": [
    "xtotal = x3 + x4 + x5\n",
    "xtotal"
   ]
  },
  {
   "cell_type": "code",
   "execution_count": 30,
   "id": "65834ec6-dee0-4f84-ba7c-ec9a21071886",
   "metadata": {},
   "outputs": [
    {
     "data": {
      "text/plain": [
       "0.3158310911999998"
      ]
     },
     "execution_count": 30,
     "metadata": {},
     "output_type": "execute_result"
    }
   ],
   "source": [
    "total_prob = sum([binom.pmf(k, 10, 0.2) for k in range (3,6)])\n",
    "total_prob"
   ]
  },
  {
   "cell_type": "markdown",
   "id": "a28831a4-324a-4cad-b5b5-600538570362",
   "metadata": {},
   "source": [
    "e) What is the probability that none of them smoke?"
   ]
  },
  {
   "cell_type": "code",
   "execution_count": 33,
   "id": "64ca52fe-5cae-4ffc-a957-b9e154afe3d7",
   "metadata": {},
   "outputs": [
    {
     "data": {
      "text/plain": [
       "0.10737418240000003"
      ]
     },
     "execution_count": 33,
     "metadata": {},
     "output_type": "execute_result"
    }
   ],
   "source": [
    "prob_zero = binom.pmf(k = 0, n = 10, p = 0.20)\n",
    "prob_zero"
   ]
  },
  {
   "cell_type": "markdown",
   "id": "1e9a963b-6a54-439e-b5db-188971a1911c",
   "metadata": {},
   "source": [
    "f) How many people do we expect to be smokers within these 10? Calculate Variance and Standard Deviation."
   ]
  },
  {
   "cell_type": "code",
   "execution_count": 45,
   "id": "ebee8888-9d70-461c-9230-0df8d78d81e5",
   "metadata": {},
   "outputs": [],
   "source": [
    "n = 10\n",
    "p = 0.2"
   ]
  },
  {
   "cell_type": "code",
   "execution_count": 47,
   "id": "155f37ea-b288-4b5a-80a2-0d73d1722632",
   "metadata": {},
   "outputs": [
    {
     "data": {
      "text/plain": [
       "2.0"
      ]
     },
     "execution_count": 47,
     "metadata": {},
     "output_type": "execute_result"
    }
   ],
   "source": [
    "expec = n * p\n",
    "expec"
   ]
  },
  {
   "cell_type": "code",
   "execution_count": 59,
   "id": "7dda3bfa-71e8-4443-9ff3-e26bab6b3043",
   "metadata": {},
   "outputs": [
    {
     "data": {
      "text/plain": [
       "1.6"
      ]
     },
     "execution_count": 59,
     "metadata": {},
     "output_type": "execute_result"
    }
   ],
   "source": [
    "variance = n * p * (1 - p)\n",
    "variance"
   ]
  },
  {
   "cell_type": "code",
   "execution_count": 63,
   "id": "244219a8-a9d0-4ac4-8837-a2a49dba36b3",
   "metadata": {},
   "outputs": [
    {
     "data": {
      "text/plain": [
       "1.2649110640673518"
      ]
     },
     "execution_count": 63,
     "metadata": {},
     "output_type": "execute_result"
    }
   ],
   "source": [
    "stn_dev = variance ** 0.5\n",
    "stn_dev"
   ]
  },
  {
   "cell_type": "code",
   "execution_count": null,
   "id": "e8c63940-3872-45c3-b080-540c2a71d7f9",
   "metadata": {},
   "outputs": [],
   "source": []
  },
  {
   "cell_type": "code",
   "execution_count": null,
   "id": "fbabd1d5-19ac-43ca-a16c-fe1a28fb0c60",
   "metadata": {},
   "outputs": [],
   "source": []
  }
 ],
 "metadata": {
  "kernelspec": {
   "display_name": "Python [conda env:base] *",
   "language": "python",
   "name": "conda-base-py"
  },
  "language_info": {
   "codemirror_mode": {
    "name": "ipython",
    "version": 3
   },
   "file_extension": ".py",
   "mimetype": "text/x-python",
   "name": "python",
   "nbconvert_exporter": "python",
   "pygments_lexer": "ipython3",
   "version": "3.12.7"
  }
 },
 "nbformat": 4,
 "nbformat_minor": 5
}
